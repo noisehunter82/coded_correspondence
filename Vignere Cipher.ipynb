{
 "metadata": {
  "language_info": {
   "codemirror_mode": {
    "name": "ipython",
    "version": 3
   },
   "file_extension": ".py",
   "mimetype": "text/x-python",
   "name": "python",
   "nbconvert_exporter": "python",
   "pygments_lexer": "ipython3",
   "version": "3.9.0-final"
  },
  "orig_nbformat": 2,
  "kernelspec": {
   "name": "python3",
   "display_name": "Python 3"
  }
 },
 "nbformat": 4,
 "nbformat_minor": 2,
 "cells": [
  {
   "source": [
    "VIGNERE CIPHER\n",
    "\n",
    "Here's my take on Vignere Cipher. For each letter in the secret message, its alphabet index is added to the alphabet index of the corresponding letter in the key_string. The resulting number becomes the alphabet index of the coded letter.\n",
    "\n",
    "You can use different alphabet - don't forget to change it in both functions.\n",
    "\n",
    "i.e.\n",
    "\n",
    "- provided keyword:           dog\n",
    "\n",
    "- provided message:           Secret Message\n",
    "\n",
    "- gernerated keyword_string:  dogdogdogdogdog\n",
    "\n",
    "works like this:\n",
    "\n",
    "- index of 'S' + index of 'd' = new index of the coded character ('V')\n",
    "\n",
    "- index of 'e' + index of 'o' = new index of the coded character ('s')\n",
    "\n",
    "- index of 'c' + index of 'g' = new index of the coded character ('i')\n",
    "\n",
    "- ...\n",
    "\n",
    "Repeat this for all characters to get:\n",
    "\n",
    "- gernerated coded message:   Vsiusz. kv6gjs\n",
    "\n",
    "In order to decipher the message one needs the coded message and correct keyword.\n"
   ],
   "cell_type": "markdown",
   "metadata": {}
  },
  {
   "cell_type": "code",
   "execution_count": 1,
   "metadata": {},
   "outputs": [
    {
     "output_type": "stream",
     "name": "stdout",
     "text": [
      "ZexzrzcjI9gDlBl?emzxiF0gtl7lg8;lNsqx2Akkjw4gCssBEgDr9o?rwl3l2Kg9k6ynu:l.s1wCjlA,6AllXsJ00sh9,4H6Jf\n"
     ]
    }
   ],
   "source": [
    "def coderVignere(message, keyword):\n",
    "    alphabet = ['a', 'b', 'c', 'd', 'e', 'f', 'g', 'h', 'i', 'j', 'k', 'l', 'm', 'n', 'o', 'p', 'q', 'r', 's', 't', 'u', 'v', 'w', 'x', 'y', 'z', '0', '1', '2', '3', '4', '5', '6', '7', '8', '9', 'A', 'B', 'C', 'D', 'E', 'F', 'G', 'H', 'I', 'J', 'K', 'L', 'M', 'N', 'O', 'P', 'Q', 'R', 'S', 'T', 'U', 'V', 'W', 'X', 'Y', 'Z', ' ', '!', '?', '.', ',', ';', ':', '-']\n",
    "    # create continous string made of repeated keyword\n",
    "    keyword_string = ''\n",
    "    while len(keyword_string) < len(message):\n",
    "        keyword_string += keyword\n",
    "\n",
    "    # ciphering logic\n",
    "    result = ''\n",
    "    for i in range(len(message)):\n",
    "        # handle symbols not in the defined alphabet: copy and move on to the next character\n",
    "        if not message[i] in alphabet:\n",
    "            result += message[i]\n",
    "            continue\n",
    "\n",
    "        char_index = 0\n",
    "        # index of the keyword_string character\n",
    "        key_index = alphabet.index(keyword_string[i])\n",
    "        # index of the original message character\n",
    "        message_index = alphabet.index(message[i])\n",
    "\n",
    "        # main logic\n",
    "        char_index = message_index + key_index\n",
    "        if char_index >= len(alphabet):\n",
    "            char_index = char_index - len(alphabet)\n",
    "\n",
    "        result += alphabet[char_index]\n",
    "\n",
    "    print(result)\n",
    "\n",
    "\n",
    "coderVignere(\"Having fun with Vignere cipher! Do both functions work as they should? Today is 4th November 2020.\", 'secretkeyword')\n"
   ]
  },
  {
   "cell_type": "code",
   "execution_count": 2,
   "metadata": {},
   "outputs": [
    {
     "output_type": "stream",
     "name": "stdout",
     "text": [
      "Having fun with Vignere cipher! Do both functions work as they should? Today is 4th November 2020.\n"
     ]
    }
   ],
   "source": [
    "def decoderVignere(message, keyword):\n",
    "    alphabet = ['a', 'b', 'c', 'd', 'e', 'f', 'g', 'h', 'i', 'j', 'k', 'l', 'm', 'n', 'o', 'p', 'q', 'r', 's', 't', 'u', 'v', 'w', 'x', 'y', 'z', '0', '1', '2', '3', '4', '5', '6', '7', '8', '9', 'A', 'B', 'C', 'D', 'E', 'F', 'G', 'H', 'I', 'J', 'K', 'L', 'M', 'N', 'O', 'P', 'Q', 'R', 'S', 'T', 'U', 'V', 'W', 'X', 'Y', 'Z', ' ', '!', '?', '.', ',', ';', ':', '-']\n",
    "    # create continous string made of repeated keyword\n",
    "    keyword_string = ''\n",
    "    while len(keyword_string) < len(message):\n",
    "        keyword_string += keyword\n",
    "\n",
    "    # deciphering logic\n",
    "    result = ''\n",
    "    for i in range(len(message)):\n",
    "        # handle symbols not in the defined alphabet: copy and move on to the next character\n",
    "        if not message[i] in alphabet:\n",
    "            result += message[i]\n",
    "            continue\n",
    "\n",
    "        char_index = 0\n",
    "        # index of the keyword_string character\n",
    "        key_index = alphabet.index(keyword_string[i])\n",
    "        # index of the coded message character\n",
    "        message_index = alphabet.index(message[i])\n",
    "        # result of adding index numbers (during coding) couldn't be 0, so it's assigned to lenght of alphabet\n",
    "        if alphabet.index(message[i]) == 0:\n",
    "            message_index = len(alphabet)\n",
    "        # main logic\n",
    "        if (message_index > key_index):\n",
    "            char_index = message_index - key_index\n",
    "        else:\n",
    "            char_index = message_index + len(alphabet) - key_index\n",
    "        # there is no index equal to the alphabet's length so index is set at 0\n",
    "        if char_index == len(alphabet):\n",
    "            char_index = 0\n",
    "\n",
    "        result += alphabet[char_index]\n",
    "\n",
    "    print(result)\n",
    "\n",
    "\n",
    "decoderVignere(\"ZexzrzcjI9gDlBl?emzxiF0gtl7lg8;lNsqx2Akkjw4gCssBEgDr9o?rwl3l2Kg9k6ynu:l.s1wCjlA,6AllXsJ00sh9,4H6Jf\", 'secretkeyword')"
   ]
  }
 ]
}